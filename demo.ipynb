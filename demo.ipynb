{
 "cells": [
  {
   "cell_type": "markdown",
   "id": "0b0c58d2",
   "metadata": {},
   "source": [
    "# Trading Strategy Backtesting with `python_trade_runner`\n",
    "\n",
    "This notebook demonstrates how to use the `python_trade_runner` library to backtest a trading strategy. We'll go through the steps of importing data, defining a strategy, running a backtest, and analyzing the results."
   ]
  },
  {
   "cell_type": "markdown",
   "id": "dab308e4",
   "metadata": {},
   "source": [
    "---\n",
    "\n",
    "## Table of Contents\n",
    "\n",
    "1. [Installation](#installation)\n",
    "2. [Import Required Modules](#import-required-modules)\n",
    "3. [Import Your Data](#import-your-data)\n",
    "4. [Define Your Strategy](#define-your-strategy)\n",
    "5. [Backtest Your Strategy](#backtest-your-strategy)\n",
    "6. [Analyze Results](#analyze-results)"
   ]
  },
  {
   "cell_type": "markdown",
   "id": "7144d0a2",
   "metadata": {},
   "source": [
    "---\n",
    "\n",
    "## 1. Installation\n",
    "\n",
    "First, make sure you've cloned the repository and installed the required dependencies."
   ]
  },
  {
   "cell_type": "code",
   "execution_count": null,
   "id": "db7b3a12",
   "metadata": {},
   "outputs": [],
   "source": [
    "%pip install -r requirements.txt"
   ]
  },
  {
   "cell_type": "markdown",
   "id": "2c3d5713",
   "metadata": {},
   "source": [
    "## 2. Import Required Modules\n",
    "\n",
    "Import all necessary modules from the `python_trade_runner` package."
   ]
  },
  {
   "cell_type": "code",
   "execution_count": null,
   "id": "64829130",
   "metadata": {},
   "outputs": [],
   "source": [
    "from datetime import datetime, timezone\n",
    "from python_trade_runner import *"
   ]
  },
  {
   "cell_type": "markdown",
   "id": "056fbf75",
   "metadata": {},
   "source": [
    "## 3. Import Your Data\n",
    "\n",
    "Ensure your financial data is in the correct format and located in the appropriate directory. The data should be in CSV format with the following columns:\n",
    "\n",
    "- `timestamp`, `open`, `high`, `low`, `close`, `volume`\n",
    "\n",
    "The path structure should be:\n",
    "\n",
    "```\n",
    "{PATH_TO_DATA}/{exchange}/{symbol}/{exchange}-{symbol}-{interval}.csv\n",
    "```\n",
    "\n",
    "You can set your custom data folder by overwriting `PATH_TO_DATA`."
   ]
  },
  {
   "cell_type": "code",
   "execution_count": null,
   "id": "f9d9a2c2",
   "metadata": {},
   "outputs": [],
   "source": [
    "# Example: Set custom data path if needed\n",
    "# PATH_TO_DATA = '/path/to/your/data'"
   ]
  },
  {
   "cell_type": "markdown",
   "id": "028e0f3a",
   "metadata": {},
   "source": [
    "## 4. Define Your Strategy\n",
    "\n",
    "### Create a Trading Pattern\n",
    "\n",
    "Define a list of patterns to design your trading strategy. Below is an example of defining a double bottom pattern."
   ]
  },
  {
   "cell_type": "code",
   "execution_count": null,
   "id": "93bc42ba",
   "metadata": {},
   "outputs": [],
   "source": [
    "pattern_list = []\n",
    "pattern_list.append(AddPoint(0, add_last_datetime))\n",
    "pattern_list.append(AddPoint(0, add_uptrend, 0, True))\n",
    "pattern_list.append(AddPoint(0, add_downtrend, 0, True))\n",
    "pattern_list.append(AddPoint(0, add_uptrend, 0, True))\n",
    "pattern_list.append(AddPoint(0, add_downtrend, 0, True))\n",
    "pattern_list.append(FilterPoint(check_highs, 2, 0))\n",
    "pattern_list.append(FilterPoint(check_highs, 4, 2))\n",
    "pattern_list.append(FilterPoint(check_lows, 1, 3))"
   ]
  },
  {
   "cell_type": "markdown",
   "id": "0939a84c",
   "metadata": {},
   "source": [
    "### Create a Trade Builder\n",
    "\n",
    "A trade builder calculates the trade position based on your pattern, including entry, stop loss, and profit levels."
   ]
  },
  {
   "cell_type": "code",
   "execution_count": null,
   "id": "32c5cbbc",
   "metadata": {},
   "outputs": [],
   "source": [
    "trade_builder = TradeBuilder(\n",
    "    [(2, 1, 1)],  # Entry Level: Max price at point C\n",
    "    [(1, 2, 1)],  # Stop Level: Min price at point B\n",
    "    [(1, 2, -1), (2, 1, 2)],  # Profit Level: Calculated for 2:1 reward-to-risk ratio\n",
    "    market_entry=True,\n",
    "    max_trade_duration_params=[0, 3, 0.5],\n",
    "    visual_price_index=[1, 2, 1, 2, 1]\n",
    ")"
   ]
  },
  {
   "cell_type": "markdown",
   "id": "63ad0f0f",
   "metadata": {},
   "source": [
    "#### Visual Representation of the Setup\n",
    "\n",
    "To visualize the pattern and trade setup, refer to the image below:\n",
    "\n",
    "![Setup example](https://raw.githubusercontent.com/LoicL971/python_trade_runner/main/setup.png)"
   ]
  },
  {
   "cell_type": "markdown",
   "id": "535b6365",
   "metadata": {},
   "source": [
    "## 5. Backtest Your Strategy\n",
    "\n",
    "### Initialize Backtest Object\n",
    "\n",
    "Set up the backtest parameters, including the time frame, exchange, symbol, and interval."
   ]
  },
  {
   "cell_type": "code",
   "execution_count": null,
   "id": "f2c09049",
   "metadata": {},
   "outputs": [],
   "source": [
    "setup = Setup(0, pattern_list, trade_builder)\n",
    "\n",
    "start = datetime(2022, 6, 15, tzinfo=timezone.utc)\n",
    "end = datetime(2022, 6, 21, tzinfo=timezone.utc)\n",
    "exchange = Exchange.BINANCE\n",
    "symbol = Symbol.BTCUSDT\n",
    "interval = Interval.M5\n",
    "\n",
    "backtest = Backtest(\n",
    "    setup_list=[setup],\n",
    "    risk_for_setup_id={0: 0.01},\n",
    "    start_datetime=start,\n",
    "    end_datetime=end,\n",
    "    window_size=150,\n",
    "    initial_balance=1000,\n",
    "    exchange=exchange,\n",
    "    symbol=symbol,\n",
    "    interval=interval,\n",
    "    test_fees=False\n",
    ")"
   ]
  },
  {
   "cell_type": "markdown",
   "id": "9203f5f3",
   "metadata": {},
   "source": [
    "### Run the Backtest"
   ]
  },
  {
   "cell_type": "code",
   "execution_count": null,
   "id": "d9fa1cf5",
   "metadata": {},
   "outputs": [],
   "source": [
    "backtest.initialize_chart()\n",
    "backtest.step_until_end()"
   ]
  },
  {
   "cell_type": "markdown",
   "id": "12d577d1",
   "metadata": {},
   "source": [
    "## 6. Analyze Results\n",
    "\n",
    "After running the backtest, you can analyze the results using the following code:"
   ]
  },
  {
   "cell_type": "code",
   "execution_count": null,
   "id": "176905d2",
   "metadata": {},
   "outputs": [],
   "source": [
    "results = backtest.get_results()\n",
    "\n",
    "print(f\"Winrate: {results.get_winrate():.2%}\")\n",
    "print(f\"R ratio: {results.get_r()}\")\n",
    "print(f\"Max drawdown: {results.get_max_drawdown():.2%}\")\n",
    "print(f\"Expected profit per trade: {results.get_perf():.2%}\")\n",
    "print(f\"Succeeded trades: {results.get_nb_success()}\")\n",
    "print(f\"Stopped trades: {results.get_nb_stopped()}\")\n",
    "print(f\"Canceled trades: {results.get_nb_canceled()}\")\n",
    "print(f\"Final Balance: {backtest.balance:.2f}\")"
   ]
  },
  {
   "cell_type": "markdown",
   "id": "3c0df6dc",
   "metadata": {},
   "source": [
    "**Sample Output:**\n",
    "\n",
    "```\n",
    "Winrate: 58.00%\n",
    "R ratio: 1.0\n",
    "Max drawdown: 36.48%\n",
    "Expected profit per trade: 1.94%\n",
    "Succeeded trades: 509\n",
    "Stopped trades: 370\n",
    "Canceled trades: 408\n",
    "Final Balance: 1119.75\n",
    "```"
   ]
  },
  {
   "cell_type": "markdown",
   "id": "d22025f5",
   "metadata": {},
   "source": [
    "### Visualizations\n",
    "\n",
    "#### Plot Balances Over Time"
   ]
  },
  {
   "cell_type": "code",
   "execution_count": null,
   "id": "e18b20d2",
   "metadata": {},
   "outputs": [],
   "source": [
    "results.plot_balances()"
   ]
  },
  {
   "cell_type": "markdown",
   "id": "b2346d68",
   "metadata": {},
   "source": [
    "This will display a graph of your balance over time during the backtest.\n",
    "\n",
    "![Plotted balances](https://raw.githubusercontent.com/LoicL971/python_trade_runner/main/balances.png)"
   ]
  },
  {
   "cell_type": "markdown",
   "id": "aa8a2c58",
   "metadata": {},
   "source": [
    "#### Show Specific Trades\n",
    "\n",
    "You can visualize specific trades by their index:"
   ]
  },
  {
   "cell_type": "code",
   "execution_count": null,
   "id": "1db683cf",
   "metadata": {},
   "outputs": [],
   "source": [
    "results.show_some_archieved_trades(indexes=[25, 26])"
   ]
  },
  {
   "cell_type": "markdown",
   "id": "08cc49ed",
   "metadata": {},
   "source": [
    "This will display charts of the specified trades.\n",
    "\n",
    "![Plotted trade](https://raw.githubusercontent.com/LoicL971/python_trade_runner/main/trade.png)"
   ]
  },
  {
   "cell_type": "markdown",
   "id": "0f91e74f",
   "metadata": {},
   "source": [
    "## Conclusion\n",
    "\n",
    "You've successfully run a backtest using the `python_trade_runner` library! This notebook provides a template for testing your own trading strategies. Feel free to modify the pattern and trade builder to suit your specific needs."
   ]
  }
 ],
 "metadata": {
  "kernelspec": {
   "display_name": "Python 3",
   "language": "python",
   "name": "python3"
  },
  "language_info": {
   "codemirror_mode": {
    "name": "ipython",
    "version": 3
   },
   "file_extension": ".py",
   "mimetype": "text/x-python",
   "name": "python",
   "nbconvert_exporter": "python",
   "pygments_lexer": "ipython3",
   "version": "3.8.5"
  }
 },
 "nbformat": 4,
 "nbformat_minor": 5
}
